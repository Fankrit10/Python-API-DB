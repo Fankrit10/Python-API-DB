{
 "cells": [
  {
   "cell_type": "code",
   "execution_count": 12,
   "id": "422e8e74",
   "metadata": {},
   "outputs": [
    {
     "name": "stdout",
     "output_type": "stream",
     "text": [
      "El mayor es:15\n",
      "El mayor es:116\n"
     ]
    }
   ],
   "source": [
    "#Ejercicios practico python Fabian Niño\n",
    "#Sacar el mayor entre dos numeros\n",
    "def maximo(a,b):\n",
    "    if a<b:\n",
    "        print(\"El mayor es:\"+str(b))\n",
    "    else:\n",
    "        print(\"El mayor es:\"+str(a))\n",
    "\n",
    "maximo(15,6)\n",
    "\n",
    "#sacar el mayor entre 3 numeros\n",
    "def mayor_de_tres(a,b,c):\n",
    "\n",
    "    if a<c and b<c:\n",
    "        print(\"El mayor es:\"+str(c))\n",
    "    if a<b and c<b:\n",
    "        print(\"El mayor es:\"+str(b))\n",
    "    if c<a and b<a:\n",
    "        print(\"El mayor es:\"+str(a))    \n",
    "        \n",
    "mayor_de_tres(24,116,67)\n",
    "   \n",
    "lista"
   ]
  },
  {
   "cell_type": "code",
   "execution_count": 28,
   "id": "d84f2791",
   "metadata": {},
   "outputs": [
    {
     "ename": "NameError",
     "evalue": "name 'lista' is not defined",
     "output_type": "error",
     "traceback": [
      "\u001b[1;31m---------------------------------------------------------------------------\u001b[0m",
      "\u001b[1;31mNameError\u001b[0m                                 Traceback (most recent call last)",
      "\u001b[1;32m~\\AppData\\Local\\Temp/ipykernel_18676/1735022734.py\u001b[0m in \u001b[0;36m<module>\u001b[1;34m\u001b[0m\n\u001b[0;32m      2\u001b[0m \u001b[0mlista\u001b[0m\u001b[1;33m.\u001b[0m\u001b[0mpop\u001b[0m\u001b[1;33m(\u001b[0m\u001b[1;33m)\u001b[0m\u001b[1;33m\u001b[0m\u001b[1;33m\u001b[0m\u001b[0m\n\u001b[0;32m      3\u001b[0m \u001b[1;32mdel\u001b[0m \u001b[0mlista\u001b[0m\u001b[1;33m\u001b[0m\u001b[1;33m\u001b[0m\u001b[0m\n\u001b[1;32m----> 4\u001b[1;33m \u001b[0mlista\u001b[0m\u001b[1;33m\u001b[0m\u001b[1;33m\u001b[0m\u001b[0m\n\u001b[0m\u001b[0;32m      5\u001b[0m \u001b[1;33m\u001b[0m\u001b[0m\n\u001b[0;32m      6\u001b[0m \u001b[1;33m\u001b[0m\u001b[0m\n",
      "\u001b[1;31mNameError\u001b[0m: name 'lista' is not defined"
     ]
    }
   ],
   "source": [
    "lista=[1,2,\"dhu\"]\n",
    "lista.pop()\n",
    "del lista\n",
    "lista\n",
    "\n",
    "\n"
   ]
  }
 ],
 "metadata": {
  "kernelspec": {
   "display_name": "Python 3 (ipykernel)",
   "language": "python",
   "name": "python3"
  },
  "language_info": {
   "codemirror_mode": {
    "name": "ipython",
    "version": 3
   },
   "file_extension": ".py",
   "mimetype": "text/x-python",
   "name": "python",
   "nbconvert_exporter": "python",
   "pygments_lexer": "ipython3",
   "version": "3.9.7"
  }
 },
 "nbformat": 4,
 "nbformat_minor": 5
}
